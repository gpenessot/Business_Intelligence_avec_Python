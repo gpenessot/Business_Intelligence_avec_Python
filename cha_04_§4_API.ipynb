{
 "cells": [
  {
   "cell_type": "markdown",
   "id": "3822d855-b0ce-4a6c-948d-807bafe7bad3",
   "metadata": {},
   "source": [
    "# Chapitre 4 - API"
   ]
  },
  {
   "cell_type": "markdown",
   "id": "ace5008f-d5c3-4518-b4ae-e0f12ca6765f",
   "metadata": {},
   "source": [
    "### 4.3.4 Utilisation d’API sans authentification"
   ]
  },
  {
   "cell_type": "code",
   "execution_count": null,
   "id": "3e1d9972-80a4-480b-8d7f-d7905cab2df1",
   "metadata": {},
   "outputs": [],
   "source": [
    "# On importe la librairie\n",
    "import requests\n",
    "\n",
    "# On envoie une requête get\n",
    "response = requests.get('https://api.exemple.com/data')"
   ]
  },
  {
   "cell_type": "markdown",
   "id": "25cd72d4-53f0-4090-8c58-882a52ed3cec",
   "metadata": {},
   "source": [
    "On peut améliorer le code précédent en affichant la réponse si la requête a correctement abouti."
   ]
  },
  {
   "cell_type": "code",
   "execution_count": null,
   "id": "ad93b377-1bdf-435a-b709-f8220bf912a1",
   "metadata": {},
   "outputs": [],
   "source": [
    "if response.status_code == 200:\n",
    "    data = response.json()\n",
    "else:\n",
    "    print(f'Échec de la récupération des données : {response.status_code}')"
   ]
  },
  {
   "cell_type": "markdown",
   "id": "351ec39f-4a30-4b97-9029-d860e2436ea6",
   "metadata": {},
   "source": [
    "Pour avoir une idée plus précise du type d'erreur (si elle provient du côté serveur ou du côté client), on peut utiliser la méthode `raise_for_status()`. "
   ]
  },
  {
   "cell_type": "code",
   "execution_count": null,
   "id": "b3a01302-49b6-4ef1-bca4-332b7832ceda",
   "metadata": {},
   "outputs": [],
   "source": [
    "try:\n",
    "    response = requests.get('https://api.exemple.com/data')\n",
    "    response.raise_for_status()\n",
    "    data = response.json()\n",
    "except requests.exceptions.HTTPError as http_err:\n",
    "    print(f'Une erreur HTTP est survenue : {http_err}')\n",
    "except Exception as err:\n",
    "    print(f'Une erreur est survenue : {err}')"
   ]
  },
  {
   "cell_type": "markdown",
   "id": "90aaff0f-a427-48e3-be42-eb62a8f35740",
   "metadata": {},
   "source": [
    "Si on effectue plusieurs requête, nous utiliserons l'objet `Session()`. Cela permet de réutiliser la connexion TCP sous-jacente."
   ]
  },
  {
   "cell_type": "code",
   "execution_count": null,
   "id": "f4093851-d33d-44fe-925c-aac33724df6d",
   "metadata": {},
   "outputs": [],
   "source": [
    "with requests.Session() as session:\n",
    "\ttry:\n",
    "\t\tresponse = session.get('https://api.exemple.com/data')\n",
    "    \tresponse.raise_for_status()\n",
    "        data = response.json()\n",
    "\texcept requests.exceptions.HTTPError as http_err:\n",
    "    \tprint(f'Une erreur HTTP est survenue : {http_err}')\n",
    "\texcept Exception as err:\n",
    "    \tprint(f'Une erreur est survenue : {err}')"
   ]
  },
  {
   "cell_type": "markdown",
   "id": "496de3ab-6c9e-4367-991b-6d5f4b308b85",
   "metadata": {},
   "source": [
    "### 4.3.5 Appels API concurrents avec le multithreading"
   ]
  },
  {
   "cell_type": "code",
   "execution_count": null,
   "id": "9a035ab6-5b3f-454b-a198-aa47f2dc9cbb",
   "metadata": {},
   "outputs": [],
   "source": [
    "from concurrent.futures import ThreadPoolExecutor\n",
    "\n",
    "def recuperer_url(url):\n",
    "    with requests.Session() as session:\n",
    "        return session.get(url)\n",
    "\n",
    "urls = ['https://api.exemple.com/data1', 'https://api.exemple.com/data2']\n",
    "\n",
    "with ThreadPoolExecutor(max_workers=5) as executor:\n",
    "    futur_url = {executor.submit(recuperer_url, url): url for url in urls}\n",
    "    for futur in concurrent.futures.as_completed(futur_url):\n",
    "        url = futur_url[futur]\n",
    "        try:\n",
    "            data = futur.result().json()\n",
    "        except Exception as exc:\n",
    "            print(f'{url} a généré une exception : {exc}')\n",
    "        else:\n",
    "            print(f'La page {url} fait {len(data)} octets')"
   ]
  },
  {
   "cell_type": "markdown",
   "id": "a4256305-80ff-4ae7-ba8b-bbb6918650c9",
   "metadata": {},
   "source": [
    "### 4.3.6 Requêtes API avec authentification "
   ]
  },
  {
   "cell_type": "markdown",
   "id": "02ff8610-85ab-4dab-a22a-9f0a500a43ff",
   "metadata": {},
   "source": [
    "**Authentification par Token (Bearer Token)**"
   ]
  },
  {
   "cell_type": "code",
   "execution_count": null,
   "id": "3df49f0f-87b1-4f9f-8ea5-95582eb1c10d",
   "metadata": {},
   "outputs": [],
   "source": [
    "import requests\n",
    "\n",
    "# Votre token Bearer (habituellement obtenu après un processus d'autorisation)\n",
    "bearer_token = 'votre_token_bearer'\n",
    "\n",
    "# Préparation des en-têtes HTTP avec le token d'authentification\n",
    "headers = {\n",
    "    'Authorization': f'Bearer {bearer_token}'\n",
    "}\n",
    "\n",
    "# Envoi d'une requête GET avec authentification\n",
    "response = requests.get('https://api.exemple.com/protected', headers=headers)\n",
    "\n",
    "# Validation de la réponse\n",
    "if response.ok:\n",
    "    print('Réponse reçue:', response.json())\n",
    "else:\n",
    "    print('Erreur reçue:', response.status_code)"
   ]
  },
  {
   "cell_type": "markdown",
   "id": "85bfec81-4826-4808-919c-c112fa78589b",
   "metadata": {},
   "source": [
    "**Authentification de base HTTP (Basic Auth)**"
   ]
  },
  {
   "cell_type": "code",
   "execution_count": null,
   "id": "35735e96-1f8e-4cd4-b9d8-16b16723b8bb",
   "metadata": {},
   "outputs": [],
   "source": [
    "from requests.auth import HTTPBasicAuth\n",
    "import requests\n",
    "\n",
    "response = requests.get(\n",
    "    'https://api.exemple.com/basic-auth',\n",
    "    auth=HTTPBasicAuth('utilisateur', 'mot_de_passe')\n",
    ")\n",
    "\n",
    "# Assurez-vous que la réponse est valide\n",
    "if response.ok:\n",
    "    data = response.json()\n",
    "else:\n",
    "    print('Échec de la récupération des données:', response.status_code)"
   ]
  },
  {
   "cell_type": "markdown",
   "id": "aa166b2e-bace-4748-acca-a71b05b150dc",
   "metadata": {},
   "source": [
    "**Authentification via Proxy**"
   ]
  },
  {
   "cell_type": "code",
   "execution_count": null,
   "id": "0a63e238-0db8-454c-ac5d-eaf3403ad81a",
   "metadata": {},
   "outputs": [],
   "source": [
    "# On enregistre dans les URLs proxy dans des variables \n",
    "# d'environnement\n",
    "import os\n",
    "\n",
    "os.environ['HTTP_PROXY']='http://monproxy.fr:1234'\n",
    "os.environ['HTTPS_PROXY']= 'https://monproxy.fr:1234'"
   ]
  },
  {
   "cell_type": "code",
   "execution_count": null,
   "id": "bc3820a8-f977-4095-9140-83f5729d6392",
   "metadata": {},
   "outputs": [],
   "source": [
    "import requests\n",
    "import os\n",
    "\n",
    "# On crée le dictionnaire contenant les URLs proxy\n",
    "proxies = {\n",
    "\t'http': os.environ['HTTP_PROXY'],\n",
    "\t'https': os.environ['HTTPS_PROXY'] }\n",
    "\n",
    "r = requests.get('http://www.url.com', proxies=proxies)\n"
   ]
  },
  {
   "cell_type": "markdown",
   "id": "245a02fa-aa2f-46af-9ce4-9721d61eebd7",
   "metadata": {},
   "source": [
    "**Authentification avec les Cookies**"
   ]
  },
  {
   "cell_type": "code",
   "execution_count": null,
   "id": "7c95ad3e-990f-4482-ac3d-f01ed7b4978b",
   "metadata": {},
   "outputs": [],
   "source": [
    "mport requests\n",
    "\n",
    "# Créez une session pour conserver les cookies\n",
    "session = requests.Session()\n",
    "\n",
    "# Se connecter pour obtenir le cookie de session\n",
    "session.post('https://api.exemple.com/login', data={'utilisateur': 'nom', 'motdepasse': 'mdp'})\n",
    "\n",
    "# Le cookie de session est maintenant stocké dans la session\n",
    "response = session.get('https://api.exemple.com/protected')\n",
    "\n",
    "# Vérification de la réponse\n",
    "if response.ok:\n",
    "    print('Réponse reçue de l\\'API protégée.')\n",
    "else:\n",
    "    print('Erreur de requête:', response.status_code)"
   ]
  },
  {
   "cell_type": "markdown",
   "id": "be17cae1-e4e3-418a-b62f-55168fe980d5",
   "metadata": {},
   "source": [
    "### 5. Cas pratique"
   ]
  },
  {
   "cell_type": "markdown",
   "id": "5882336d-b2a7-452c-9ea0-a4ab311f9234",
   "metadata": {},
   "source": [
    "Vous venez d’intégrer une équipe Marketing et on vous demande de déterminer les zones géographiques les plus propices à votre prochaine campagne. Vous ouvrez votre base de données et constatez avec effroi que les adresses ne sont pas normées et que certaines communes ou codes postaux sont mal orthographiés. \n",
    "\n",
    "Bref, il va falloir remettre de l’ordre dans tout ça. Pour se faire, nous allons utiliser l’[API Adresse](https://adresse.data.gouv.fr/api-doc/adresse) .\n",
    "L’idée est la suivante, on fournit en entrée une adresse approximative et nous récupérons une adresse propre depuis l’API. \n",
    "\n",
    "D’autres données nous serons probablement utile à des fins de data-visualisation, en particulier les coordonnées GPS.\n",
    "\n",
    "**Dictionnaire des données :**\n",
    "<blockquote>\n",
    "Les coordonnées GeoJSON sont exprimées en WGS-84 (EPSG 4326)  \n",
    "  \n",
    "Les attributs retournés sont :\n",
    "\n",
    "* id : identifiant de l’adresse (clef d’interopérabilité)\n",
    "* type : type de résultat trouvé\n",
    "    * housenumber : numéro « à la plaque »\n",
    "    * street : position « à la voie », placé approximativement au centre de celle-ci\n",
    "    * locality : lieu-dit\n",
    "    * municipality : numéro « à la commune »\n",
    "* score : valeur de 0 à 1 indiquant la pertinence du résultat\n",
    "* housenumber : numéro avec indice de répétition éventuel (bis, ter, A, B)\n",
    "* street : nom de la voie\n",
    "* name : numéro éventuel et nom de voie ou lieu dit\n",
    "* postcode : code postal\n",
    "* citycode : code INSEE de la commune\n",
    "* city : nom de la commune\n",
    "* district : nom de l’arrondissement (Paris/Lyon/Marseille)\n",
    "* oldcitycode : code INSEE de la commune ancienne (le cas échéant)\n",
    "* oldcity : nom de la commune ancienne (le cas échéant)\n",
    "* context : n° de département, nom de département et de région\n",
    "* label : libellé complet de l’adresse\n",
    "* x : coordonnées géographique en projection légale\n",
    "* y : coordonnées géographique en projection légale\n",
    "* importance : indicateur d’importance (champ technique)\n",
    "</blockquote>"
   ]
  },
  {
   "cell_type": "code",
   "execution_count": 7,
   "id": "c6bcd6b2-eac5-4c64-af11-629c7be5ba09",
   "metadata": {},
   "outputs": [
    {
     "name": "stdout",
     "output_type": "stream",
     "text": [
      "{\n",
      "  \"type\": \"Feature\",\n",
      "  \"geometry\": {\n",
      "    \"type\": \"Point\",\n",
      "    \"coordinates\": [\n",
      "      -2.340983,\n",
      "      47.258811\n",
      "    ]\n",
      "  },\n",
      "  \"properties\": {\n",
      "    \"label\": \"8 Boulevard du Port 44380 Pornichet\",\n",
      "    \"score\": 0.47710291866028703,\n",
      "    \"housenumber\": \"8\",\n",
      "    \"id\": \"44132_0141_00008\",\n",
      "    \"name\": \"8 Boulevard du Port\",\n",
      "    \"postcode\": \"44380\",\n",
      "    \"citycode\": \"44132\",\n",
      "    \"x\": 296409.78,\n",
      "    \"y\": 6697932.63,\n",
      "    \"city\": \"Pornichet\",\n",
      "    \"context\": \"44, Loire-Atlantique, Pays de la Loire\",\n",
      "    \"type\": \"housenumber\",\n",
      "    \"importance\": 0.51129,\n",
      "    \"street\": \"Boulevard du Port\"\n",
      "  }\n",
      "}\n"
     ]
    }
   ],
   "source": [
    "import requests\n",
    "import json\n",
    "\n",
    "# L'adresse dont nous disposons est la suivante : 4 bd du port\n",
    "# Nous avons le code postal 43330 et il semble valide, lançons un \n",
    "# premier test pour vérifier si nous pouvons extraire une adresse valide\n",
    "url = \"https://api-adresse.data.gouv.fr/search/?q=8+bd+du+port&postcode=44380\"\n",
    "\n",
    "with requests.Session() as session:\n",
    "    try:\n",
    "        response = session.get(url)\n",
    "        response.raise_for_status()\n",
    "        # On ne sélectionne que le premier item du fichier \n",
    "        data = response.json()['features'][0]\n",
    "        # On utilise la méthode dumps de la librairie json pour \n",
    "        # avoir une mise en forme plus esthétique avec print\n",
    "        print(json.dumps(data, indent=2))\n",
    "    except requests.exceptions.HTTPError as http_err:\n",
    "        print(f'Une erreur HTTP est survenue : {http_err}')\n",
    "    except Exception as err:\n",
    "        print(f'Une erreur est survenue : {err}')"
   ]
  },
  {
   "cell_type": "code",
   "execution_count": null,
   "id": "10c527ba-f093-4836-8693-c25e05cd2a91",
   "metadata": {},
   "outputs": [],
   "source": []
  }
 ],
 "metadata": {
  "kernelspec": {
   "display_name": "Python 3",
   "language": "python",
   "name": "python3"
  },
  "language_info": {
   "codemirror_mode": {
    "name": "ipython",
    "version": 3
   },
   "file_extension": ".py",
   "mimetype": "text/x-python",
   "name": "python",
   "nbconvert_exporter": "python",
   "pygments_lexer": "ipython3",
   "version": "3.9.18"
  }
 },
 "nbformat": 4,
 "nbformat_minor": 5
}
